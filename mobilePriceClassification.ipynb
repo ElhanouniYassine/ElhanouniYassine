{
  "nbformat": 4,
  "nbformat_minor": 0,
  "metadata": {
    "colab": {
      "provenance": [],
      "authorship_tag": "ABX9TyMchrC1fY9DpeuFKKwQGl2O",
      "include_colab_link": true
    },
    "kernelspec": {
      "name": "python3",
      "display_name": "Python 3"
    },
    "language_info": {
      "name": "python"
    }
  },
  "cells": [
    {
      "cell_type": "markdown",
      "metadata": {
        "id": "view-in-github",
        "colab_type": "text"
      },
      "source": [
        "<a href=\"https://colab.research.google.com/github/ElhanouniYassine/ElhanouniYassine/blob/main/mobilePriceClassification.ipynb\" target=\"_parent\"><img src=\"https://colab.research.google.com/assets/colab-badge.svg\" alt=\"Open In Colab\"/></a>"
      ]
    },
    {
      "cell_type": "code",
      "execution_count": null,
      "metadata": {
        "id": "VcltJiKnwaej"
      },
      "outputs": [],
      "source": [
        "import pandas as pd\n",
        "from sklearn.metrics import mean_absolute_error\n",
        "from sklearn.model_selection import train_test_split\n",
        "from sklearn.tree import DecisionTreeRegressor"
      ]
    },
    {
      "cell_type": "code",
      "source": [
        "data=pd.DataFrame(pd.read_csv(\"train.csv\"))\n",
        "# y is the target that we want to predict\n",
        "y=data.price_range\n",
        "features=[\"battery_power\",\"clock_speed\",\"fc\",\"four_g\",\"int_memory\",\"n_cores\",\"pc\",\"ram\",\"talk_time\",\"touch_screen\",\"wifi\"]\n",
        "X=data[features]\n"
      ],
      "metadata": {
        "id": "q66SQM-9yITq"
      },
      "execution_count": null,
      "outputs": []
    },
    {
      "cell_type": "code",
      "source": [
        "def get_mae(max_leaf_nodes,train_X,val_X,train_y,val_y):\n",
        "  model=DecisionTreeRegressor(max_leaf_nodes=max_leaf_nodes,random_state=1)\n",
        "  model.fit(train_X,train_y)\n",
        "  val_predicted=model.predict(val_X)\n",
        "  mae=mean_absolute_error(val_y,val_predicted)\n",
        "  return mae\n",
        "\n",
        "train_X, val_X, train_y, val_y=train_test_split(X,y,random_state=1)\n",
        "model=DecisionTreeRegressor(random_state=1)\n",
        "model.fit(train_X,train_y)\n",
        "val_predicted=model.predict(val_X)\n",
        "print(\"MAE is :\"+str(mean_absolute_error(val_y,val_predicted)))\n",
        "for i in [5,15,30,50,70,90]:\n",
        "  print(get_mae(i,train_X,val_X,train_y,val_y))\n"
      ],
      "metadata": {
        "colab": {
          "base_uri": "https://localhost:8080/"
        },
        "id": "stGBMz4RyNyk",
        "outputId": "8c48952d-f0aa-412e-8182-30bf891f895b"
      },
      "execution_count": null,
      "outputs": [
        {
          "output_type": "stream",
          "name": "stdout",
          "text": [
            "MAE is :0.264\n",
            "0.35503790464894586\n",
            "0.2823576780466076\n",
            "0.2800823011292698\n",
            "0.27015355775269617\n",
            "0.2720736254914889\n",
            "0.26974816717997196\n"
          ]
        }
      ]
    },
    {
      "cell_type": "markdown",
      "source": [
        "|so here we found that best number of leaves is 90!!"
      ],
      "metadata": {
        "id": "t723eCeAA2TH"
      }
    },
    {
      "cell_type": "code",
      "source": [
        "model=DecisionTreeRegressor(max_leaf_nodes=50,random_state=1)\n",
        "\n",
        "model.fit(X,y)\n",
        "predicted_val=model.predict(X)\n",
        "print(\"new MAE is :\"+str(mean_absolute_error(y,predicted_val)))"
      ],
      "metadata": {
        "colab": {
          "base_uri": "https://localhost:8080/"
        },
        "id": "vRS7SjGK3bS1",
        "outputId": "07371c17-6eef-4675-a217-e205bd712ba7"
      },
      "execution_count": null,
      "outputs": [
        {
          "output_type": "stream",
          "name": "stdout",
          "text": [
            "new MAE is :0.18258901047105608\n"
          ]
        }
      ]
    },
    {
      "cell_type": "code",
      "source": [
        "\n",
        "df = pd.DataFrame({'predicted_val': predicted_val})\n",
        "df['resultat_prediction'] = df['predicted_val'].apply(lambda x: int(x) if x - int(x) < 0.5 else int(x) + 1)\n",
        "\n",
        "df[\"resultat_prediction\"]"
      ],
      "metadata": {
        "colab": {
          "base_uri": "https://localhost:8080/"
        },
        "id": "007E-9CQBimF",
        "outputId": "a077731a-7bbf-4cab-885d-455bbcef131b"
      },
      "execution_count": null,
      "outputs": [
        {
          "output_type": "execute_result",
          "data": {
            "text/plain": [
              "0       2\n",
              "1       2\n",
              "2       2\n",
              "3       2\n",
              "4       1\n",
              "       ..\n",
              "1995    0\n",
              "1996    2\n",
              "1997    3\n",
              "1998    0\n",
              "1999    3\n",
              "Name: resultat_prediction, Length: 2000, dtype: int64"
            ]
          },
          "metadata": {},
          "execution_count": 50
        }
      ]
    },
    {
      "cell_type": "code",
      "source": [
        "data[\"price_range\"]"
      ],
      "metadata": {
        "colab": {
          "base_uri": "https://localhost:8080/"
        },
        "id": "CsoX3tG2B-qe",
        "outputId": "46d2b8e4-c9cd-41aa-cc00-c113734be380"
      },
      "execution_count": null,
      "outputs": [
        {
          "output_type": "execute_result",
          "data": {
            "text/plain": [
              "0       1\n",
              "1       2\n",
              "2       2\n",
              "3       2\n",
              "4       1\n",
              "       ..\n",
              "1995    0\n",
              "1996    2\n",
              "1997    3\n",
              "1998    0\n",
              "1999    3\n",
              "Name: price_range, Length: 2000, dtype: int64"
            ]
          },
          "metadata": {},
          "execution_count": 48
        }
      ]
    },
    {
      "cell_type": "markdown",
      "source": [
        "# Now we are going to test our model on the test.csv file"
      ],
      "metadata": {
        "id": "pFVVn5sODogf"
      }
    },
    {
      "cell_type": "code",
      "source": [
        "test=pd.read_csv(\"test.csv\")\n",
        "input=test[features]\n",
        "predicted_values_test=model.predict(input)\n",
        "df = pd.DataFrame({'predicted_values_test': predicted_values_test})\n",
        "df['resultat'] = df['predicted_values_test'].apply(lambda x: int(x) if x - int(x) < 0.5 else int(x) + 1)\n",
        "\n",
        "df[\"resultat\"]"
      ],
      "metadata": {
        "colab": {
          "base_uri": "https://localhost:8080/"
        },
        "id": "O_3ZVkrcDvme",
        "outputId": "0642be63-ac05-4993-c6e2-dfee68d17bb9"
      },
      "execution_count": null,
      "outputs": [
        {
          "output_type": "execute_result",
          "data": {
            "text/plain": [
              "0      3\n",
              "1      3\n",
              "2      2\n",
              "3      3\n",
              "4      1\n",
              "      ..\n",
              "995    2\n",
              "996    1\n",
              "997    1\n",
              "998    2\n",
              "999    2\n",
              "Name: resultat, Length: 1000, dtype: int64"
            ]
          },
          "metadata": {},
          "execution_count": 58
        }
      ]
    },
    {
      "cell_type": "code",
      "source": [],
      "metadata": {
        "id": "_MA7DbQrEYTn"
      },
      "execution_count": null,
      "outputs": []
    }
  ]
}